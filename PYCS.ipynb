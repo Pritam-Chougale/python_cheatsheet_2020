{
  "nbformat": 4,
  "nbformat_minor": 0,
  "metadata": {
    "colab": {
      "name": "PYCS.ipynb",
      "provenance": [],
      "collapsed_sections": [
        "dh8D1AkaWAVP",
        "-qQLOpmMTZ9l",
        "-TOQRN51Li7-",
        "ZbkiJ03eUqIW"
      ],
      "authorship_tag": "ABX9TyN/dgy4haGlSnTV8KU/HRI2"
    },
    "kernelspec": {
      "name": "python3",
      "display_name": "Python 3"
    }
  },
  "cells": [
    {
      "cell_type": "markdown",
      "metadata": {
        "id": "OMB5IL6RVoiI",
        "colab_type": "text"
      },
      "source": [
        "Hello and welcome to python3 cheat sheet.\n",
        "\n",
        "My name is Pritam from pritamc.com.\n",
        "Below you find one of the easy to understand and easy to go with python cheat sheets. I’ve combined together the code and explanation for those who are beginning with the python. I’ve covered the fundamentals of python programming that can help you get started.\n",
        "\n",
        "Each topic is explained with a practical example you can try it your own. You can copy the code and play with it. I would love to hear your feedback so don’t give a second thought before writing me at pritamchougale@gmail.com If you want the code you can find it on my GitHub.\n",
        "\n",
        "Find more of the resources at pritamc.com . So without any further ado let’s get started. \n",
        "*NOTE: '#' stands for comments in python*"
      ]
    },
    {
      "cell_type": "markdown",
      "metadata": {
        "id": "dh8D1AkaWAVP",
        "colab_type": "text"
      },
      "source": [
        "# **1. Python Basics**"
      ]
    },
    {
      "cell_type": "markdown",
      "metadata": {
        "id": "9Ue4Uj5cWOFh",
        "colab_type": "text"
      },
      "source": [
        "- **Math Operator**\n"
      ]
    },
    {
      "cell_type": "code",
      "metadata": {
        "id": "m0p73DgAWT0u",
        "colab_type": "code",
        "colab": {
          "base_uri": "https://localhost:8080/",
          "height": 34
        },
        "outputId": "d2244985-b256-4c48-c25a-d03439f90e64"
      },
      "source": [
        "2 ** 3 #Exponent"
      ],
      "execution_count": null,
      "outputs": [
        {
          "output_type": "execute_result",
          "data": {
            "text/plain": [
              "8"
            ]
          },
          "metadata": {
            "tags": []
          },
          "execution_count": 5
        }
      ]
    },
    {
      "cell_type": "code",
      "metadata": {
        "id": "fsw4MYY4VUp8",
        "colab_type": "code",
        "colab": {
          "base_uri": "https://localhost:8080/",
          "height": 34
        },
        "outputId": "6be6d436-b1ea-47d7-e959-69b8073c26c6"
      },
      "source": [
        "22 % 8 #Modulus/Remaider"
      ],
      "execution_count": null,
      "outputs": [
        {
          "output_type": "execute_result",
          "data": {
            "text/plain": [
              "6"
            ]
          },
          "metadata": {
            "tags": []
          },
          "execution_count": 6
        }
      ]
    },
    {
      "cell_type": "code",
      "metadata": {
        "id": "mJVpXvG8WxbB",
        "colab_type": "code",
        "colab": {
          "base_uri": "https://localhost:8080/",
          "height": 34
        },
        "outputId": "800580af-5a64-4c47-ff88-191f738f9367"
      },
      "source": [
        "22 // 8 #Integer division"
      ],
      "execution_count": null,
      "outputs": [
        {
          "output_type": "execute_result",
          "data": {
            "text/plain": [
              "2"
            ]
          },
          "metadata": {
            "tags": []
          },
          "execution_count": 7
        }
      ]
    },
    {
      "cell_type": "code",
      "metadata": {
        "id": "lDlFL_waW7Sf",
        "colab_type": "code",
        "colab": {
          "base_uri": "https://localhost:8080/",
          "height": 34
        },
        "outputId": "cb30aa34-c4d5-4878-fca1-46b7e93ce2a1"
      },
      "source": [
        "22 / 8 #Division"
      ],
      "execution_count": null,
      "outputs": [
        {
          "output_type": "execute_result",
          "data": {
            "text/plain": [
              "2.75"
            ]
          },
          "metadata": {
            "tags": []
          },
          "execution_count": 8
        }
      ]
    },
    {
      "cell_type": "code",
      "metadata": {
        "id": "6r9cmXmoXDL1",
        "colab_type": "code",
        "colab": {
          "base_uri": "https://localhost:8080/",
          "height": 34
        },
        "outputId": "4876343f-da8d-4b0e-c9a1-97498768da19"
      },
      "source": [
        "3 * 3 #Multiplication"
      ],
      "execution_count": null,
      "outputs": [
        {
          "output_type": "execute_result",
          "data": {
            "text/plain": [
              "9"
            ]
          },
          "metadata": {
            "tags": []
          },
          "execution_count": 9
        }
      ]
    },
    {
      "cell_type": "code",
      "metadata": {
        "id": "9rRsujoqYYt-",
        "colab_type": "code",
        "colab": {
          "base_uri": "https://localhost:8080/",
          "height": 34
        },
        "outputId": "e618f488-372c-4d70-e6b8-89c984106724"
      },
      "source": [
        "5 - 2 #Subtraction"
      ],
      "execution_count": null,
      "outputs": [
        {
          "output_type": "execute_result",
          "data": {
            "text/plain": [
              "3"
            ]
          },
          "metadata": {
            "tags": []
          },
          "execution_count": 10
        }
      ]
    },
    {
      "cell_type": "code",
      "metadata": {
        "id": "169xlTu-YgNA",
        "colab_type": "code",
        "colab": {
          "base_uri": "https://localhost:8080/",
          "height": 34
        },
        "outputId": "9a58ae34-3690-478e-d3ca-56199303983e"
      },
      "source": [
        "2 + 2 #Addition"
      ],
      "execution_count": null,
      "outputs": [
        {
          "output_type": "execute_result",
          "data": {
            "text/plain": [
              "4"
            ]
          },
          "metadata": {
            "tags": []
          },
          "execution_count": 11
        }
      ]
    },
    {
      "cell_type": "markdown",
      "metadata": {
        "id": "ihWiITKhYmql",
        "colab_type": "text"
      },
      "source": [
        "- **Data Types** \n",
        "  - Integers: -2, -1, 0, 1, 2, 3, 4, 5\n",
        "  - Floating-point numbers: -1.25, -1.0, --0.5, 0.0, 0.5, 1.0, 1.25\n",
        "  - Strings: 'a', 'aa', 'aaa', 'Hello!', '11 cats'"
      ]
    },
    {
      "cell_type": "code",
      "metadata": {
        "id": "roqphXEYZVgb",
        "colab_type": "code",
        "colab": {
          "base_uri": "https://localhost:8080/",
          "height": 35
        },
        "outputId": "38634340-7769-49aa-894d-b2bb9b85ef6b"
      },
      "source": [
        "#String concatenation\n",
        "'Pritam'+'Chougale'"
      ],
      "execution_count": null,
      "outputs": [
        {
          "output_type": "execute_result",
          "data": {
            "application/vnd.google.colaboratory.intrinsic+json": {
              "type": "string"
            },
            "text/plain": [
              "'PritamChougale'"
            ]
          },
          "metadata": {
            "tags": []
          },
          "execution_count": 13
        }
      ]
    },
    {
      "cell_type": "code",
      "metadata": {
        "id": "UEACNyYOZt1u",
        "colab_type": "code",
        "colab": {
          "base_uri": "https://localhost:8080/",
          "height": 35
        },
        "outputId": "01a4b779-35e4-4ff4-d75e-6c73834552c3"
      },
      "source": [
        "#String Replication\n",
        "'Pritam ' * 5"
      ],
      "execution_count": null,
      "outputs": [
        {
          "output_type": "execute_result",
          "data": {
            "application/vnd.google.colaboratory.intrinsic+json": {
              "type": "string"
            },
            "text/plain": [
              "'Pritam Pritam Pritam Pritam Pritam '"
            ]
          },
          "metadata": {
            "tags": []
          },
          "execution_count": 14
        }
      ]
    },
    {
      "cell_type": "markdown",
      "metadata": {
        "id": "n1dRQcD7aUs1",
        "colab_type": "text"
      },
      "source": [
        "- **Variables** <br>\n",
        "There are some rules that we use to define a variable in python. Such as\n",
        "  - It can be only one word.\n",
        "  - It can use only letters, numbers, and the underscore (_) character.\n",
        "  - It can’t begin with a number.\n",
        "  - Variable name starting with an underscore (_) are considered as \"unuseful` <br><br>\n",
        "Examples below "
      ]
    },
    {
      "cell_type": "code",
      "metadata": {
        "id": "tZfYMwPpa-e5",
        "colab_type": "code",
        "colab": {
          "base_uri": "https://localhost:8080/",
          "height": 35
        },
        "outputId": "d340e3d3-f9da-4a53-da35-741ea805274e"
      },
      "source": [
        "temp = 'this is a string'\n",
        "temp"
      ],
      "execution_count": null,
      "outputs": [
        {
          "output_type": "execute_result",
          "data": {
            "application/vnd.google.colaboratory.intrinsic+json": {
              "type": "string"
            },
            "text/plain": [
              "'this is a string'"
            ]
          },
          "metadata": {
            "tags": []
          },
          "execution_count": 25
        }
      ]
    },
    {
      "cell_type": "code",
      "metadata": {
        "id": "bll4XD1cb0BL",
        "colab_type": "code",
        "colab": {
          "base_uri": "https://localhost:8080/",
          "height": 34
        },
        "outputId": "50e63964-9b3a-478f-abb9-f6795d14e398"
      },
      "source": [
        "_temp = 23454\n",
        "_temp"
      ],
      "execution_count": null,
      "outputs": [
        {
          "output_type": "execute_result",
          "data": {
            "text/plain": [
              "23454"
            ]
          },
          "metadata": {
            "tags": []
          },
          "execution_count": 22
        }
      ]
    },
    {
      "cell_type": "code",
      "metadata": {
        "id": "lidXKFWWbYAU",
        "colab_type": "code",
        "colab": {
          "base_uri": "https://localhost:8080/",
          "height": 35
        },
        "outputId": "e457c26c-d3c4-45f9-f2ab-16d548f9a183"
      },
      "source": [
        "temp3 = 'this is a third variable with number in a name'\n",
        "temp3"
      ],
      "execution_count": null,
      "outputs": [
        {
          "output_type": "execute_result",
          "data": {
            "application/vnd.google.colaboratory.intrinsic+json": {
              "type": "string"
            },
            "text/plain": [
              "'this is a third variable with number in a name'"
            ]
          },
          "metadata": {
            "tags": []
          },
          "execution_count": 23
        }
      ]
    },
    {
      "cell_type": "code",
      "metadata": {
        "id": "5MszSXSkb-CI",
        "colab_type": "code",
        "colab": {
          "base_uri": "https://localhost:8080/",
          "height": 133
        },
        "outputId": "6b745f18-8e0f-4e41-b392-b7f53d984929"
      },
      "source": [
        "#this will give error \n",
        "34temp = 'variable starting with number'"
      ],
      "execution_count": null,
      "outputs": [
        {
          "output_type": "error",
          "ename": "SyntaxError",
          "evalue": "ignored",
          "traceback": [
            "\u001b[0;36m  File \u001b[0;32m\"<ipython-input-24-f58d6e22aa3d>\"\u001b[0;36m, line \u001b[0;32m2\u001b[0m\n\u001b[0;31m    34temp = 'variable starting with number'\u001b[0m\n\u001b[0m         ^\u001b[0m\n\u001b[0;31mSyntaxError\u001b[0m\u001b[0;31m:\u001b[0m invalid syntax\n"
          ]
        }
      ]
    },
    {
      "cell_type": "markdown",
      "metadata": {
        "id": "aCTbNIuvciDi",
        "colab_type": "text"
      },
      "source": [
        "- **Comments** "
      ]
    },
    {
      "cell_type": "code",
      "metadata": {
        "id": "bjVIxlxGc2Ea",
        "colab_type": "code",
        "colab": {
          "base_uri": "https://localhost:8080/",
          "height": 34
        },
        "outputId": "58854127-6784-4295-dfac-8fc8860c308a"
      },
      "source": [
        "#this line won't be printed \n",
        "print('while this will get printed')\n",
        "#this is a \n",
        "#multi-line comment \n"
      ],
      "execution_count": null,
      "outputs": [
        {
          "output_type": "stream",
          "text": [
            "while this will get printed\n"
          ],
          "name": "stdout"
        }
      ]
    },
    {
      "cell_type": "code",
      "metadata": {
        "id": "I2hKSHA-dJ-i",
        "colab_type": "code",
        "colab": {}
      },
      "source": [
        "#Below is another type of comment , it is called function docstring: it is same as multiline comment\n",
        "def sample(): \n",
        "  \"\"\"\n",
        "  this will not be executed\n",
        "  \"\"\""
      ],
      "execution_count": null,
      "outputs": []
    },
    {
      "cell_type": "markdown",
      "metadata": {
        "id": "34sWu_JOd5sZ",
        "colab_type": "text"
      },
      "source": [
        "- **The print() function** "
      ]
    },
    {
      "cell_type": "code",
      "metadata": {
        "id": "K3C1jsAHd0-C",
        "colab_type": "code",
        "colab": {
          "base_uri": "https://localhost:8080/",
          "height": 69
        },
        "outputId": "00bb6dc4-2d8a-48d3-f0e3-d992ca992181"
      },
      "source": [
        "print('Print function is used to promt message on the user screen')\n",
        "print(\"it can also be used with double quotes\")\n",
        "temp = 416\n",
        "print('the above temp variable holds:', temp)"
      ],
      "execution_count": null,
      "outputs": [
        {
          "output_type": "stream",
          "text": [
            "Print function is used to promt message on the user screen\n",
            "it can also be used with double quotes\n",
            "the above temp variable holds: 416\n"
          ],
          "name": "stdout"
        }
      ]
    },
    {
      "cell_type": "markdown",
      "metadata": {
        "id": "h7La26H-elSV",
        "colab_type": "text"
      },
      "source": [
        "- **The input() function**\n",
        "  - It is used to take input from the user. "
      ]
    },
    {
      "cell_type": "code",
      "metadata": {
        "id": "Lmw7_ZQUewp4",
        "colab_type": "code",
        "colab": {
          "base_uri": "https://localhost:8080/",
          "height": 104
        },
        "outputId": "6d2d102c-29f6-4c0c-b64d-a7a6b4369ea1"
      },
      "source": [
        "#addition of two numbers input by user\n",
        "print('Enter First number')\n",
        "number1 = input()\n",
        "print('Enter Second number')\n",
        "number2 = input()\n",
        "print('Addition: ', number1 + number2)"
      ],
      "execution_count": null,
      "outputs": [
        {
          "output_type": "stream",
          "text": [
            "Enter First number\n",
            "34\n",
            "Enter Second number\n",
            "3\n",
            "Addition:  343\n"
          ],
          "name": "stdout"
        }
      ]
    },
    {
      "cell_type": "markdown",
      "metadata": {
        "id": "NChkG-iHflgW",
        "colab_type": "text"
      },
      "source": [
        "- **The len() function**\n",
        "  - It Used to find the length of a string "
      ]
    },
    {
      "cell_type": "code",
      "metadata": {
        "id": "QxvzntaSfziy",
        "colab_type": "code",
        "colab": {
          "base_uri": "https://localhost:8080/",
          "height": 34
        },
        "outputId": "e5403ca2-4d29-4d12-933e-4ca025e88919"
      },
      "source": [
        "name = 'pritam chougale'\n",
        "len(name)"
      ],
      "execution_count": null,
      "outputs": [
        {
          "output_type": "execute_result",
          "data": {
            "text/plain": [
              "15"
            ]
          },
          "metadata": {
            "tags": []
          },
          "execution_count": 39
        }
      ]
    },
    {
      "cell_type": "markdown",
      "metadata": {
        "id": "7bUlEtxIgKKS",
        "colab_type": "text"
      },
      "source": [
        "- **The str(), int(), and float() Functions**"
      ]
    },
    {
      "cell_type": "code",
      "metadata": {
        "id": "lkTQPKYMguxM",
        "colab_type": "code",
        "colab": {
          "base_uri": "https://localhost:8080/",
          "height": 35
        },
        "outputId": "6a676ab7-52dc-4d83-8678-ced4fb556ed0"
      },
      "source": [
        "#str() used to convert string to int\n",
        "str(54) # will return a string "
      ],
      "execution_count": null,
      "outputs": [
        {
          "output_type": "execute_result",
          "data": {
            "application/vnd.google.colaboratory.intrinsic+json": {
              "type": "string"
            },
            "text/plain": [
              "'54'"
            ]
          },
          "metadata": {
            "tags": []
          },
          "execution_count": 4
        }
      ]
    },
    {
      "cell_type": "code",
      "metadata": {
        "id": "6ftRB_OESdnS",
        "colab_type": "code",
        "colab": {
          "base_uri": "https://localhost:8080/",
          "height": 34
        },
        "outputId": "53f2f5a6-f7c5-4680-fee6-85264c8b1f7c"
      },
      "source": [
        "#int() to convert string to int\n",
        "print('I am {} years old.'.format(str(29)))"
      ],
      "execution_count": null,
      "outputs": [
        {
          "output_type": "stream",
          "text": [
            "I am 29 years old.\n"
          ],
          "name": "stdout"
        }
      ]
    },
    {
      "cell_type": "markdown",
      "metadata": {
        "id": "-qQLOpmMTZ9l",
        "colab_type": "text"
      },
      "source": [
        "# **2. Flow Control**"
      ]
    },
    {
      "cell_type": "markdown",
      "metadata": {
        "id": "WsrX-pQ3UK8K",
        "colab_type": "text"
      },
      "source": [
        "- **Comparison Operators**\n",
        "  - These operators evaluate to True or False depending on the values you give them."
      ]
    },
    {
      "cell_type": "code",
      "metadata": {
        "id": "AJq3LNCyUfaa",
        "colab_type": "code",
        "colab": {
          "base_uri": "https://localhost:8080/",
          "height": 34
        },
        "outputId": "441d8122-9c60-4371-e40b-e5823f536d9e"
      },
      "source": [
        "# == equal to operator \n",
        "12 == 12"
      ],
      "execution_count": null,
      "outputs": [
        {
          "output_type": "execute_result",
          "data": {
            "text/plain": [
              "True"
            ]
          },
          "metadata": {
            "tags": []
          },
          "execution_count": 9
        }
      ]
    },
    {
      "cell_type": "code",
      "metadata": {
        "id": "TIHsUewPU2PF",
        "colab_type": "code",
        "colab": {
          "base_uri": "https://localhost:8080/",
          "height": 34
        },
        "outputId": "fe9a7a04-101f-48b2-a54c-12985a471481"
      },
      "source": [
        "# != not equal to operator \n",
        "12 != 12"
      ],
      "execution_count": null,
      "outputs": [
        {
          "output_type": "execute_result",
          "data": {
            "text/plain": [
              "False"
            ]
          },
          "metadata": {
            "tags": []
          },
          "execution_count": 10
        }
      ]
    },
    {
      "cell_type": "code",
      "metadata": {
        "id": "8QmNVCWCU9gZ",
        "colab_type": "code",
        "colab": {
          "base_uri": "https://localhost:8080/",
          "height": 34
        },
        "outputId": "eb687ce4-6b4a-49f6-c06d-d62a8bf07d1a"
      },
      "source": [
        "# < less than operator \n",
        "12 < 20"
      ],
      "execution_count": null,
      "outputs": [
        {
          "output_type": "execute_result",
          "data": {
            "text/plain": [
              "True"
            ]
          },
          "metadata": {
            "tags": []
          },
          "execution_count": 11
        }
      ]
    },
    {
      "cell_type": "code",
      "metadata": {
        "id": "mmJDPuZsVH1X",
        "colab_type": "code",
        "colab": {
          "base_uri": "https://localhost:8080/",
          "height": 34
        },
        "outputId": "f9759fd0-4d4f-4e35-e1b6-0b2d933bc9b9"
      },
      "source": [
        "# > greater than operator \n",
        "12 > 20"
      ],
      "execution_count": null,
      "outputs": [
        {
          "output_type": "execute_result",
          "data": {
            "text/plain": [
              "False"
            ]
          },
          "metadata": {
            "tags": []
          },
          "execution_count": 12
        }
      ]
    },
    {
      "cell_type": "code",
      "metadata": {
        "id": "VMf_WxJIVQsK",
        "colab_type": "code",
        "colab": {
          "base_uri": "https://localhost:8080/",
          "height": 34
        },
        "outputId": "e5d2863b-d505-49f7-b171-22d03632cef2"
      },
      "source": [
        "# <= less than or equal to \n",
        "12 <= 12"
      ],
      "execution_count": null,
      "outputs": [
        {
          "output_type": "execute_result",
          "data": {
            "text/plain": [
              "True"
            ]
          },
          "metadata": {
            "tags": []
          },
          "execution_count": 13
        }
      ]
    },
    {
      "cell_type": "code",
      "metadata": {
        "id": "GiBcMmH-VZCC",
        "colab_type": "code",
        "colab": {
          "base_uri": "https://localhost:8080/",
          "height": 34
        },
        "outputId": "82ecf2c6-fab3-4894-c2cb-43cc2441b2bb"
      },
      "source": [
        "# >= greater than or equal to \n",
        "12 >= 15"
      ],
      "execution_count": null,
      "outputs": [
        {
          "output_type": "execute_result",
          "data": {
            "text/plain": [
              "False"
            ]
          },
          "metadata": {
            "tags": []
          },
          "execution_count": 15
        }
      ]
    },
    {
      "cell_type": "markdown",
      "metadata": {
        "id": "L_6gcUnyVtkZ",
        "colab_type": "text"
      },
      "source": [
        "- **Boolean operators**\n",
        "  - There are three Boolean operators: AND, OR, and NOT."
      ]
    },
    {
      "cell_type": "markdown",
      "metadata": {
        "id": "0v6haaPUWXhQ",
        "colab_type": "text"
      },
      "source": [
        "  - AND operator truth table evaluation\n",
        "    - True AND True = True\n",
        "    - True AND False = False \n",
        "    - False AND True = False\n",
        "    - False AND False = False "
      ]
    },
    {
      "cell_type": "markdown",
      "metadata": {
        "id": "Yk4bgX9mXLB4",
        "colab_type": "text"
      },
      "source": [
        "- OR operator truth table evaluation\n",
        "  - True OR True = True\n",
        "  - True OR False = True\n",
        "  - False OR True = True\n",
        "  - False OR False = False\n"
      ]
    },
    {
      "cell_type": "markdown",
      "metadata": {
        "id": "TelcL5W2X1oE",
        "colab_type": "text"
      },
      "source": [
        "- NOT operator truth table evaluation\n",
        "  - Not True = False\n",
        "  - Not False = True"
      ]
    },
    {
      "cell_type": "markdown",
      "metadata": {
        "id": "wTuMJqDPjE36",
        "colab_type": "text"
      },
      "source": [
        "- **Mixing comparison and boolean operators**\n"
      ]
    },
    {
      "cell_type": "code",
      "metadata": {
        "id": "hWDxv_JBjK2H",
        "colab_type": "code",
        "colab": {
          "base_uri": "https://localhost:8080/",
          "height": 34
        },
        "outputId": "eca57b5c-7c28-4c8d-a51a-ee569a3ffc76"
      },
      "source": [
        "(4 < 5) and (5 < 6)"
      ],
      "execution_count": null,
      "outputs": [
        {
          "output_type": "execute_result",
          "data": {
            "text/plain": [
              "True"
            ]
          },
          "metadata": {
            "tags": []
          },
          "execution_count": 24
        }
      ]
    },
    {
      "cell_type": "code",
      "metadata": {
        "id": "8kLetMd7jRWb",
        "colab_type": "code",
        "colab": {
          "base_uri": "https://localhost:8080/",
          "height": 34
        },
        "outputId": "baff8778-9972-46d9-9780-6b4fe8fa4ec8"
      },
      "source": [
        "(4 < 5) and (9 < 6)"
      ],
      "execution_count": null,
      "outputs": [
        {
          "output_type": "execute_result",
          "data": {
            "text/plain": [
              "False"
            ]
          },
          "metadata": {
            "tags": []
          },
          "execution_count": 25
        }
      ]
    },
    {
      "cell_type": "code",
      "metadata": {
        "id": "aKrjgbYdjklR",
        "colab_type": "code",
        "colab": {
          "base_uri": "https://localhost:8080/",
          "height": 34
        },
        "outputId": "4d0f5927-e25f-4f81-e972-1c0e38be4fbd"
      },
      "source": [
        "(1 == 2) or (2 == 2)"
      ],
      "execution_count": null,
      "outputs": [
        {
          "output_type": "execute_result",
          "data": {
            "text/plain": [
              "True"
            ]
          },
          "metadata": {
            "tags": []
          },
          "execution_count": 26
        }
      ]
    },
    {
      "cell_type": "code",
      "metadata": {
        "id": "xT3g4efXjnBr",
        "colab_type": "code",
        "colab": {
          "base_uri": "https://localhost:8080/",
          "height": 34
        },
        "outputId": "4d434d76-b9cc-4de7-dec0-197b5b9b445e"
      },
      "source": [
        "2 + 2 == 4 and not 2 + 2 == 5 and 2 * 2 == 2 + 2"
      ],
      "execution_count": null,
      "outputs": [
        {
          "output_type": "execute_result",
          "data": {
            "text/plain": [
              "True"
            ]
          },
          "metadata": {
            "tags": []
          },
          "execution_count": 27
        }
      ]
    },
    {
      "cell_type": "markdown",
      "metadata": {
        "id": "BcjgmtTXjtNw",
        "colab_type": "text"
      },
      "source": [
        "- **if statements**\n",
        "  - Evaluates if certain condition is true "
      ]
    },
    {
      "cell_type": "code",
      "metadata": {
        "id": "7avJuVtzjxgB",
        "colab_type": "code",
        "colab": {
          "base_uri": "https://localhost:8080/",
          "height": 34
        },
        "outputId": "649f4854-393b-4478-9b4f-efb9b25eaf54"
      },
      "source": [
        "if (2 == 2):\n",
        "  print('this is true')"
      ],
      "execution_count": null,
      "outputs": [
        {
          "output_type": "stream",
          "text": [
            "this is true\n"
          ],
          "name": "stdout"
        }
      ]
    },
    {
      "cell_type": "markdown",
      "metadata": {
        "id": "1rKpP60SkJG-",
        "colab_type": "text"
      },
      "source": [
        "- **else stalement**\n",
        "  - when if condition is false then else block is executed"
      ]
    },
    {
      "cell_type": "code",
      "metadata": {
        "id": "iJDjSponkSKY",
        "colab_type": "code",
        "colab": {
          "base_uri": "https://localhost:8080/",
          "height": 34
        },
        "outputId": "6cb52218-75f3-4179-d964-8b9bf0a72c44"
      },
      "source": [
        "name  = 'Pritam'\n",
        "if (name == 'aarti'):\n",
        "  print('Hello', name)\n",
        "else:\n",
        "  print('Hey!', name)"
      ],
      "execution_count": null,
      "outputs": [
        {
          "output_type": "stream",
          "text": [
            "Hey! Pritam\n"
          ],
          "name": "stdout"
        }
      ]
    },
    {
      "cell_type": "markdown",
      "metadata": {
        "id": "mKuaSu98q5jL",
        "colab_type": "text"
      },
      "source": [
        "- **While loop**\n",
        "  - executies when if a certain condition is true"
      ]
    },
    {
      "cell_type": "code",
      "metadata": {
        "id": "CfUM1GNKq8kZ",
        "colab_type": "code",
        "colab": {
          "base_uri": "https://localhost:8080/",
          "height": 104
        },
        "outputId": "dc0bd86d-eb83-4153-c072-4643367881c2"
      },
      "source": [
        "spam = 0\n",
        "while spam < 5: # when this condition is false it will exit out of the block \n",
        "    print('Hello there!')\n",
        "    spam = spam + 1 #incrementing the variable by one"
      ],
      "execution_count": null,
      "outputs": [
        {
          "output_type": "stream",
          "text": [
            "Hello there!\n",
            "Hello there!\n",
            "Hello there!\n",
            "Hello there!\n",
            "Hello there!\n"
          ],
          "name": "stdout"
        }
      ]
    },
    {
      "cell_type": "markdown",
      "metadata": {
        "id": "sIQ8a2wbGaNo",
        "colab_type": "text"
      },
      "source": [
        "- **Break Statement**"
      ]
    },
    {
      "cell_type": "code",
      "metadata": {
        "id": "YF1veKiLtc4w",
        "colab_type": "code",
        "colab": {
          "base_uri": "https://localhost:8080/",
          "height": 104
        },
        "outputId": "0d22ffed-2df0-4bcc-d395-d0c7f0276cfc"
      },
      "source": [
        "while True:\n",
        "  print('Enter your name:')\n",
        "  name = input()\n",
        "  if name == 'pritam':\n",
        "    break\n",
        "print('Thank you', name)"
      ],
      "execution_count": null,
      "outputs": [
        {
          "output_type": "stream",
          "text": [
            "Enter your name:\n",
            "aarti\n",
            "Enter your name:\n",
            "pritam\n",
            "Thank you pritam\n"
          ],
          "name": "stdout"
        }
      ]
    },
    {
      "cell_type": "markdown",
      "metadata": {
        "id": "KoF-tXUQHK_k",
        "colab_type": "text"
      },
      "source": [
        "- **Continue Statement**\n",
        "  - When program execution reach the continue statement it is  immediately jumps back to the start of the loop"
      ]
    },
    {
      "cell_type": "code",
      "metadata": {
        "id": "EeIrUX0NH1Ds",
        "colab_type": "code",
        "colab": {
          "base_uri": "https://localhost:8080/",
          "height": 173
        },
        "outputId": "f0bbbd32-e4d2-4144-dad1-b025bf5035b8"
      },
      "source": [
        "while True:\n",
        "  print('Enter your name:')\n",
        "  name = input()\n",
        "  if(name != 'pritam'):\n",
        "    continue\n",
        "  print('Hey, Pritam. Enter the passwrd.(It is a fruit!)')\n",
        "  password = input()\n",
        "  if password == 'Mango':\n",
        "    break\n",
        "print('Welcome, Access Grannted!', name)"
      ],
      "execution_count": null,
      "outputs": [
        {
          "output_type": "stream",
          "text": [
            "Enter your name:\n",
            "pritam\n",
            "Hey, Pritam. Enter the passwrd.(It is a fruit!)\n",
            "grape\n",
            "Enter your name:\n",
            "pritam\n",
            "Hey, Pritam. Enter the passwrd.(It is a fruit!)\n",
            "Mango\n",
            "Welcome, Access Grannted! pritam\n"
          ],
          "name": "stdout"
        }
      ]
    },
    {
      "cell_type": "markdown",
      "metadata": {
        "id": "jpTcGpWCJa6B",
        "colab_type": "text"
      },
      "source": [
        "- **For loop and range function**"
      ]
    },
    {
      "cell_type": "code",
      "metadata": {
        "id": "8MiZ4ugwKCpp",
        "colab_type": "code",
        "colab": {
          "base_uri": "https://localhost:8080/",
          "height": 121
        },
        "outputId": "1d8a4cc0-a2c8-4803-b83c-1a20282db858"
      },
      "source": [
        "print('Hello there,')\n",
        "for i in range(5):\n",
        "  print('Pritam Chougale')"
      ],
      "execution_count": null,
      "outputs": [
        {
          "output_type": "stream",
          "text": [
            "Hello there,\n",
            "Pritam Chougale\n",
            "Pritam Chougale\n",
            "Pritam Chougale\n",
            "Pritam Chougale\n",
            "Pritam Chougale\n"
          ],
          "name": "stdout"
        }
      ]
    },
    {
      "cell_type": "code",
      "metadata": {
        "id": "gl4rX_HvKYOA",
        "colab_type": "code",
        "colab": {
          "base_uri": "https://localhost:8080/",
          "height": 104
        },
        "outputId": "ac724668-2cbe-4d8a-921c-070d19360252"
      },
      "source": [
        "#for with 3 arguments where first two are start and stop and third being step\n",
        "for i in range(1,10,2):\n",
        "  print('Hello, World!')"
      ],
      "execution_count": null,
      "outputs": [
        {
          "output_type": "stream",
          "text": [
            "Hello, World!\n",
            "Hello, World!\n",
            "Hello, World!\n",
            "Hello, World!\n",
            "Hello, World!\n"
          ],
          "name": "stdout"
        }
      ]
    },
    {
      "cell_type": "markdown",
      "metadata": {
        "id": "lmw8eKQ1K42e",
        "colab_type": "text"
      },
      "source": [
        "- **Importing Modules**"
      ]
    },
    {
      "cell_type": "code",
      "metadata": {
        "id": "sUb9mJ19KvcO",
        "colab_type": "code",
        "colab": {
          "base_uri": "https://localhost:8080/",
          "height": 104
        },
        "outputId": "21877f36-618f-412c-f2a3-396a2edda883"
      },
      "source": [
        "#importing the random module and printing the random integers \n",
        "import random\n",
        "for i in range(5):\n",
        "  print(random.randint(1,10))"
      ],
      "execution_count": null,
      "outputs": [
        {
          "output_type": "stream",
          "text": [
            "10\n",
            "9\n",
            "9\n",
            "1\n",
            "10\n"
          ],
          "name": "stdout"
        }
      ]
    },
    {
      "cell_type": "markdown",
      "metadata": {
        "id": "-TOQRN51Li7-",
        "colab_type": "text"
      },
      "source": [
        "# **3.Functions**"
      ]
    },
    {
      "cell_type": "markdown",
      "metadata": {
        "id": "DqT15ebcNJDK",
        "colab_type": "text"
      },
      "source": [
        "- **Defining a function and passing arguments to it**\n"
      ]
    },
    {
      "cell_type": "code",
      "metadata": {
        "id": "atW2yHAdNR5S",
        "colab_type": "code",
        "colab": {
          "base_uri": "https://localhost:8080/",
          "height": 34
        },
        "outputId": "05e0697b-d250-422d-b91c-cc2832b42d9c"
      },
      "source": [
        "def your_name(name):\n",
        "  print('hello', name)\n",
        "\n",
        "your_name('arti')"
      ],
      "execution_count": null,
      "outputs": [
        {
          "output_type": "stream",
          "text": [
            "hello arti\n"
          ],
          "name": "stdout"
        }
      ]
    },
    {
      "cell_type": "markdown",
      "metadata": {
        "id": "gN7Wnet8Nhn8",
        "colab_type": "text"
      },
      "source": [
        "- **Return value and return statement**\n",
        "    - See below code to understand this better. I've created a tiny fun activity that generates random number and tells the fun fact about the number. "
      ]
    },
    {
      "cell_type": "code",
      "metadata": {
        "id": "r_pYu7KnOPut",
        "colab_type": "code",
        "colab": {
          "base_uri": "https://localhost:8080/",
          "height": 34
        },
        "outputId": "52b9fc29-fa90-404e-92a1-a007e289a117"
      },
      "source": [
        "# Try running the code mullitple time to get new fun fact every time\n",
        "import random \n",
        "def getFunFact(funNumber):\n",
        "  if funNumber == 1:\n",
        "    return 'Banging your head against a wall for one hour burns 150 calories!'\n",
        "  elif funNumber == 2:\n",
        "    return 'In Switzerland it is illegal to own just one guinea pig!'\n",
        "  elif funNumber == 3:\n",
        "    return 'Pteronophobia is the fear of being tickled by feathers.!'\n",
        "  elif funNumber == 4:\n",
        "    return 'Snakes can help predict earthquakes!'\n",
        "  elif funNumber == 5:\n",
        "    return 'A flock of crows is known as a murder!'\n",
        "  elif funNumber == 6:\n",
        "    return '29th May is officially “Put a Pillow on Your Fridge Day!'\n",
        "  elif funNumber == 7:\n",
        "    return 'If you lift a kangaroo’s tail off the ground it can’t hop!'\n",
        "  elif funNumber == 8:\n",
        "    return 'Bananas are curved because they grow towards the sun!'\n",
        "  elif funNumber == 9:\n",
        "    return 'Movie trailers were originally shown after the movie, which is why they were called “trailers!'\n",
        "  \n",
        "r = random.randint(1,9)\n",
        "funFact = getFunFact(r)\n",
        "print(funFact)\n"
      ],
      "execution_count": null,
      "outputs": [
        {
          "output_type": "stream",
          "text": [
            "Banging your head against a wall for one hour burns 150 calories!\n"
          ],
          "name": "stdout"
        }
      ]
    },
    {
      "cell_type": "markdown",
      "metadata": {
        "id": "u94UE-kwTKBJ",
        "colab_type": "text"
      },
      "source": [
        "- **Keyword arguments**"
      ]
    },
    {
      "cell_type": "code",
      "metadata": {
        "id": "lsSv5k4LTMmn",
        "colab_type": "code",
        "colab": {
          "base_uri": "https://localhost:8080/",
          "height": 34
        },
        "outputId": "4f0f6958-294f-4b38-c7d3-20cf6bb77e71"
      },
      "source": [
        "print('Hello', end='')\n",
        "print('World')"
      ],
      "execution_count": null,
      "outputs": [
        {
          "output_type": "stream",
          "text": [
            "HelloWorld\n"
          ],
          "name": "stdout"
        }
      ]
    },
    {
      "cell_type": "code",
      "metadata": {
        "id": "OApFol23ToXt",
        "colab_type": "code",
        "colab": {
          "base_uri": "https://localhost:8080/",
          "height": 34
        },
        "outputId": "7d38905f-eb89-45a8-e3cf-b3032d3da176"
      },
      "source": [
        "print('cats', 'dogs', 'mice', sep=',')"
      ],
      "execution_count": null,
      "outputs": [
        {
          "output_type": "stream",
          "text": [
            "cats,dogs,mice\n"
          ],
          "name": "stdout"
        }
      ]
    },
    {
      "cell_type": "markdown",
      "metadata": {
        "id": "dxMqPNyMTwb3",
        "colab_type": "text"
      },
      "source": [
        "- **Local & global scope**\n",
        "  - When working with functions it is important to understand the local and global scope"
      ]
    },
    {
      "cell_type": "code",
      "metadata": {
        "id": "-8JvtLMhUMVG",
        "colab_type": "code",
        "colab": {
          "base_uri": "https://localhost:8080/",
          "height": 34
        },
        "outputId": "92d8098c-effc-4253-f27a-6f456c5e5d0e"
      },
      "source": [
        "def spam():\n",
        "  global eggs\n",
        "  eggs = 'spam'\n",
        "\n",
        "eggs = 'global'\n",
        "spam()\n",
        "print(eggs)"
      ],
      "execution_count": null,
      "outputs": [
        {
          "output_type": "stream",
          "text": [
            "spam\n"
          ],
          "name": "stdout"
        }
      ]
    },
    {
      "cell_type": "markdown",
      "metadata": {
        "id": "ZbkiJ03eUqIW",
        "colab_type": "text"
      },
      "source": [
        "# **4. Exception handling**"
      ]
    },
    {
      "cell_type": "markdown",
      "metadata": {
        "id": "0OvxR1K5tvqE",
        "colab_type": "text"
      },
      "source": [
        "- **Basic Exception handling**"
      ]
    },
    {
      "cell_type": "code",
      "metadata": {
        "id": "BaEi7Dgvt207",
        "colab_type": "code",
        "colab": {
          "base_uri": "https://localhost:8080/",
          "height": 86
        },
        "outputId": "4c7c8179-98d6-47a9-bbe0-2020ee627926"
      },
      "source": [
        "def spam(divideBy):\n",
        "  try:\n",
        "    return 51 / divideBy\n",
        "  except ZeroDivisionError as e:\n",
        "    print(\"Error invalid argument: {}\".format(e) )\n",
        "\n",
        "print(spam(2))\n",
        "print(spam(13))\n",
        "print(spam(0)) #this will give an error\n"
      ],
      "execution_count": null,
      "outputs": [
        {
          "output_type": "stream",
          "text": [
            "25.5\n",
            "3.923076923076923\n",
            "Error invalid argument: division by zero\n",
            "None\n"
          ],
          "name": "stdout"
        }
      ]
    },
    {
      "cell_type": "markdown",
      "metadata": {
        "id": "Zbu_NeTwvAOe",
        "colab_type": "text"
      },
      "source": [
        "- **Final code in exception handeling**\n",
        "  - Code inside the finally section is always executed. "
      ]
    },
    {
      "cell_type": "code",
      "metadata": {
        "id": "bF11S3yTvR09",
        "colab_type": "code",
        "colab": {
          "base_uri": "https://localhost:8080/",
          "height": 139
        },
        "outputId": "719ef937-a7e8-4d9f-e76c-bff481936b9b"
      },
      "source": [
        "def spam(divideBy):\n",
        "  try:\n",
        "    return 51 / divideBy\n",
        "  except ZeroDivisionError as e:\n",
        "    print(\"Error invalid argument: {}\".format(e) )\n",
        "  finally: \n",
        "    print(\"--Operation complete--\")\n",
        "\n",
        "print(spam(2))\n",
        "print(spam(13))\n",
        "print(spam(0)) #this will give an error"
      ],
      "execution_count": null,
      "outputs": [
        {
          "output_type": "stream",
          "text": [
            "--Operation complete--\n",
            "25.5\n",
            "--Operation complete--\n",
            "3.923076923076923\n",
            "Error invalid argument: division by zero\n",
            "--Operation complete--\n",
            "None\n"
          ],
          "name": "stdout"
        }
      ]
    },
    {
      "cell_type": "markdown",
      "metadata": {
        "id": "IXZuHL1OvyGu",
        "colab_type": "text"
      },
      "source": [
        "# **5.Python Lists**"
      ]
    },
    {
      "cell_type": "markdown",
      "metadata": {
        "id": "spFm8Ep9v9wl",
        "colab_type": "text"
      },
      "source": [
        "- **Indexing in a List**"
      ]
    },
    {
      "cell_type": "code",
      "metadata": {
        "id": "xVroJR1pwkUW",
        "colab_type": "code",
        "colab": {
          "base_uri": "https://localhost:8080/",
          "height": 34
        },
        "outputId": "59ca040f-afee-40e3-93c3-90c2335131a3"
      },
      "source": [
        "animals = ['Cat', 'Dog', 'Cow', 'Tiger', 'Wolf', 'Lion'] #this will create a list \n",
        "animals"
      ],
      "execution_count": null,
      "outputs": [
        {
          "output_type": "execute_result",
          "data": {
            "text/plain": [
              "['Cat', 'Dog', 'Cow', 'Tiger', 'Wolf', 'Lion']"
            ]
          },
          "metadata": {
            "tags": []
          },
          "execution_count": 9
        }
      ]
    },
    {
      "cell_type": "markdown",
      "metadata": {
        "id": "-hW4lrruw-7k",
        "colab_type": "text"
      },
      "source": [
        "Now let's see how we can get ndividual Values in a List with Indexes. In python index starts at 0"
      ]
    },
    {
      "cell_type": "code",
      "metadata": {
        "id": "2Py1kScExEhq",
        "colab_type": "code",
        "colab": {
          "base_uri": "https://localhost:8080/",
          "height": 35
        },
        "outputId": "51f9cb71-68fc-494d-d264-c6d11f3590c3"
      },
      "source": [
        "animals[4] #this will give 4th position element"
      ],
      "execution_count": null,
      "outputs": [
        {
          "output_type": "execute_result",
          "data": {
            "application/vnd.google.colaboratory.intrinsic+json": {
              "type": "string"
            },
            "text/plain": [
              "'Wolf'"
            ]
          },
          "metadata": {
            "tags": []
          },
          "execution_count": 12
        }
      ]
    },
    {
      "cell_type": "markdown",
      "metadata": {
        "id": "ej8xOE7exbX4",
        "colab_type": "text"
      },
      "source": [
        "- **Negative Indexing**\n",
        "  - It works as below , <br>\n",
        "[-5, -4, -3, -2, -1, 0] <br>\n",
        "[Dog, COw, TIger, Wolf, LIon, Cat]"
      ]
    },
    {
      "cell_type": "code",
      "metadata": {
        "id": "o_oWM5PgxhZ5",
        "colab_type": "code",
        "colab": {
          "base_uri": "https://localhost:8080/",
          "height": 35
        },
        "outputId": "4e09d88f-2843-42ce-d347-69489d52a0ce"
      },
      "source": [
        "animals[-5]"
      ],
      "execution_count": null,
      "outputs": [
        {
          "output_type": "execute_result",
          "data": {
            "application/vnd.google.colaboratory.intrinsic+json": {
              "type": "string"
            },
            "text/plain": [
              "'Dog'"
            ]
          },
          "metadata": {
            "tags": []
          },
          "execution_count": 14
        }
      ]
    },
    {
      "cell_type": "markdown",
      "metadata": {
        "id": "DNkX24lFy6bh",
        "colab_type": "text"
      },
      "source": [
        "- **Slicing for in a python List**"
      ]
    },
    {
      "cell_type": "code",
      "metadata": {
        "id": "QzsBkMdZzCp0",
        "colab_type": "code",
        "colab": {
          "base_uri": "https://localhost:8080/",
          "height": 34
        },
        "outputId": "d71c4074-c917-4457-dce9-76d7a9673052"
      },
      "source": [
        "#getting elements between 2 and 5 position\n",
        "animals[2:5]"
      ],
      "execution_count": null,
      "outputs": [
        {
          "output_type": "execute_result",
          "data": {
            "text/plain": [
              "['Cow', 'Tiger', 'Wolf']"
            ]
          },
          "metadata": {
            "tags": []
          },
          "execution_count": 15
        }
      ]
    },
    {
      "cell_type": "markdown",
      "metadata": {
        "id": "Rdwz-sL_IdjM",
        "colab_type": "text"
      },
      "source": [
        "# **6. String and Dictionaries**\n",
        "String is a important concept in python and it sets python apart from other programming languages. \n",
        "\n",
        "In this section I'll cover python's inbuilt string manupulation and string formating methods. "
      ]
    },
    {
      "cell_type": "markdown",
      "metadata": {
        "id": "AN7u_NAJJXyC",
        "colab_type": "text"
      },
      "source": [
        "- **String Syntax**\n",
        "  - You have already seen the strings. In python strings can be defined using single or double quotes "
      ]
    },
    {
      "cell_type": "code",
      "metadata": {
        "id": "zqhjbplDJxvx",
        "colab_type": "code",
        "colab": {
          "base_uri": "https://localhost:8080/",
          "height": 52
        },
        "outputId": "b0fe2284-1a59-43bf-87f7-a85422f90b06"
      },
      "source": [
        "myString = 'Hello, my name is Pritam'\n",
        "yourString = \"Your name is Sourabh\"\n",
        "\n",
        "print(myString)\n",
        "print(yourString)\n"
      ],
      "execution_count": 7,
      "outputs": [
        {
          "output_type": "stream",
          "text": [
            "Hello, my name is Pritam\n",
            "Your name is Sourabh\n"
          ],
          "name": "stdout"
        }
      ]
    },
    {
      "cell_type": "markdown",
      "metadata": {
        "id": "1MxIevRmKV6-",
        "colab_type": "text"
      },
      "source": [
        "*Note:* Double quotes are useful when there is a single quote inside a string. see examples below , similarly if we want to use double quotes inside a string we wrap it in single quotes as shown in below examples. "
      ]
    },
    {
      "cell_type": "code",
      "metadata": {
        "id": "itw3uRkpKdvT",
        "colab_type": "code",
        "colab": {
          "base_uri": "https://localhost:8080/",
          "height": 52
        },
        "outputId": "5f533a97-6d9c-4fbe-e91a-a91a70fb86c4"
      },
      "source": [
        "WhoAreYou = \"I am sourab's brother\"\n",
        "print(WhoAreYou)\n",
        "myBro = 'My little brother is \"Sourabh\" '\n",
        "print(myBro)"
      ],
      "execution_count": 10,
      "outputs": [
        {
          "output_type": "stream",
          "text": [
            "I am sourab's brother\n",
            "My little brother is \"Sourabh\" \n"
          ],
          "name": "stdout"
        }
      ]
    },
    {
      "cell_type": "markdown",
      "metadata": {
        "id": "nXWURX1rNj0w",
        "colab_type": "text"
      },
      "source": [
        "- **Strings as a sequences**\n",
        "    - strings can be considered as a sequence of a characters. We have seen the operatons on the list most of the operation we can do on the list as well."
      ]
    },
    {
      "cell_type": "code",
      "metadata": {
        "id": "MNC9iuzQN7Yx",
        "colab_type": "code",
        "colab": {
          "base_uri": "https://localhost:8080/",
          "height": 35
        },
        "outputId": "f8203111-0cf2-4394-a97f-b9a80efbf746"
      },
      "source": [
        "#indexing \n",
        "name = 'Sourabh'\n",
        "name[2]"
      ],
      "execution_count": 11,
      "outputs": [
        {
          "output_type": "execute_result",
          "data": {
            "application/vnd.google.colaboratory.intrinsic+json": {
              "type": "string"
            },
            "text/plain": [
              "'u'"
            ]
          },
          "metadata": {
            "tags": []
          },
          "execution_count": 11
        }
      ]
    },
    {
      "cell_type": "code",
      "metadata": {
        "id": "VnKysArqPn6g",
        "colab_type": "code",
        "colab": {
          "base_uri": "https://localhost:8080/",
          "height": 35
        },
        "outputId": "f359bf52-cf3e-4775-f82e-add14b6126f6"
      },
      "source": [
        "#slicing\n",
        "name[:-3]"
      ],
      "execution_count": 12,
      "outputs": [
        {
          "output_type": "execute_result",
          "data": {
            "application/vnd.google.colaboratory.intrinsic+json": {
              "type": "string"
            },
            "text/plain": [
              "'Sour'"
            ]
          },
          "metadata": {
            "tags": []
          },
          "execution_count": 12
        }
      ]
    },
    {
      "cell_type": "code",
      "metadata": {
        "id": "yFR_lCO8Pw74",
        "colab_type": "code",
        "colab": {
          "base_uri": "https://localhost:8080/",
          "height": 34
        },
        "outputId": "06fe73bd-fc34-4ce5-871c-c0124688398d"
      },
      "source": [
        "#string length\n",
        "len(name)"
      ],
      "execution_count": 13,
      "outputs": [
        {
          "output_type": "execute_result",
          "data": {
            "text/plain": [
              "7"
            ]
          },
          "metadata": {
            "tags": []
          },
          "execution_count": 13
        }
      ]
    },
    {
      "cell_type": "code",
      "metadata": {
        "id": "9HMapJ5fP-El",
        "colab_type": "code",
        "colab": {
          "base_uri": "https://localhost:8080/",
          "height": 34
        },
        "outputId": "e69f9004-74b1-4818-a4b3-d78485930d28"
      },
      "source": [
        "#looping through the string \n",
        "[char+'@ ' for char in name]"
      ],
      "execution_count": 14,
      "outputs": [
        {
          "output_type": "execute_result",
          "data": {
            "text/plain": [
              "['S@ ', 'o@ ', 'u@ ', 'r@ ', 'a@ ', 'b@ ', 'h@ ']"
            ]
          },
          "metadata": {
            "tags": []
          },
          "execution_count": 14
        }
      ]
    },
    {
      "cell_type": "markdown",
      "metadata": {
        "id": "SKqNEAc-QPb6",
        "colab_type": "text"
      },
      "source": [
        "*Note:* Strings are immutable, this means we can not modify them."
      ]
    },
    {
      "cell_type": "code",
      "metadata": {
        "id": "T5MyKponQWbX",
        "colab_type": "code",
        "colab": {
          "base_uri": "https://localhost:8080/",
          "height": 185
        },
        "outputId": "0e31e7e8-2c39-48fd-ff86-9cd9da3db0e8"
      },
      "source": [
        "#trying to append a character\n",
        "name[6] = 'A'"
      ],
      "execution_count": 15,
      "outputs": [
        {
          "output_type": "error",
          "ename": "TypeError",
          "evalue": "ignored",
          "traceback": [
            "\u001b[0;31m---------------------------------------------------------------------------\u001b[0m",
            "\u001b[0;31mTypeError\u001b[0m                                 Traceback (most recent call last)",
            "\u001b[0;32m<ipython-input-15-7f4f4cebd21c>\u001b[0m in \u001b[0;36m<module>\u001b[0;34m()\u001b[0m\n\u001b[1;32m      1\u001b[0m \u001b[0;31m#trying to append a character\u001b[0m\u001b[0;34m\u001b[0m\u001b[0;34m\u001b[0m\u001b[0;34m\u001b[0m\u001b[0m\n\u001b[0;32m----> 2\u001b[0;31m \u001b[0mname\u001b[0m\u001b[0;34m[\u001b[0m\u001b[0;36m6\u001b[0m\u001b[0;34m]\u001b[0m \u001b[0;34m=\u001b[0m \u001b[0;34m'A'\u001b[0m\u001b[0;34m\u001b[0m\u001b[0;34m\u001b[0m\u001b[0m\n\u001b[0m",
            "\u001b[0;31mTypeError\u001b[0m: 'str' object does not support item assignment"
          ]
        }
      ]
    },
    {
      "cell_type": "code",
      "metadata": {
        "id": "8kY0My-sQqWE",
        "colab_type": "code",
        "colab": {
          "base_uri": "https://localhost:8080/",
          "height": 185
        },
        "outputId": "e4a47172-9f99-4f7d-a57e-15143e2b4fa3"
      },
      "source": [
        "#append doesn't work either\n",
        "name.append(A)"
      ],
      "execution_count": 16,
      "outputs": [
        {
          "output_type": "error",
          "ename": "AttributeError",
          "evalue": "ignored",
          "traceback": [
            "\u001b[0;31m---------------------------------------------------------------------------\u001b[0m",
            "\u001b[0;31mAttributeError\u001b[0m                            Traceback (most recent call last)",
            "\u001b[0;32m<ipython-input-16-6183da46351c>\u001b[0m in \u001b[0;36m<module>\u001b[0;34m()\u001b[0m\n\u001b[1;32m      1\u001b[0m \u001b[0;31m#append doesn't work either\u001b[0m\u001b[0;34m\u001b[0m\u001b[0;34m\u001b[0m\u001b[0;34m\u001b[0m\u001b[0m\n\u001b[0;32m----> 2\u001b[0;31m \u001b[0mname\u001b[0m\u001b[0;34m.\u001b[0m\u001b[0mappend\u001b[0m\u001b[0;34m(\u001b[0m\u001b[0mA\u001b[0m\u001b[0;34m)\u001b[0m\u001b[0;34m\u001b[0m\u001b[0;34m\u001b[0m\u001b[0m\n\u001b[0m",
            "\u001b[0;31mAttributeError\u001b[0m: 'str' object has no attribute 'append'"
          ]
        }
      ]
    },
    {
      "cell_type": "markdown",
      "metadata": {
        "id": "_tzHAgIGRBIK",
        "colab_type": "text"
      },
      "source": [
        "- **String methods**\n",
        "    - String has some useful methods, let's see few here."
      ]
    },
    {
      "cell_type": "code",
      "metadata": {
        "id": "1epusZwFRPNK",
        "colab_type": "code",
        "colab": {
          "base_uri": "https://localhost:8080/",
          "height": 35
        },
        "outputId": "9deeeead-9f06-4a89-e421-d68ac5d0aa46"
      },
      "source": [
        "# ALL CAPS\n",
        "name = 'PritAm'\n",
        "name.upper()"
      ],
      "execution_count": 19,
      "outputs": [
        {
          "output_type": "execute_result",
          "data": {
            "application/vnd.google.colaboratory.intrinsic+json": {
              "type": "string"
            },
            "text/plain": [
              "'PRITAM'"
            ]
          },
          "metadata": {
            "tags": []
          },
          "execution_count": 19
        }
      ]
    },
    {
      "cell_type": "code",
      "metadata": {
        "id": "vmttxRQ9Rw_n",
        "colab_type": "code",
        "colab": {
          "base_uri": "https://localhost:8080/",
          "height": 35
        },
        "outputId": "d66232a9-2ba1-4c0b-bfeb-2f3e225caa8b"
      },
      "source": [
        "#all lower\n",
        "city = 'PUNE'\n",
        "city.lower()"
      ],
      "execution_count": 20,
      "outputs": [
        {
          "output_type": "execute_result",
          "data": {
            "application/vnd.google.colaboratory.intrinsic+json": {
              "type": "string"
            },
            "text/plain": [
              "'pune'"
            ]
          },
          "metadata": {
            "tags": []
          },
          "execution_count": 20
        }
      ]
    },
    {
      "cell_type": "code",
      "metadata": {
        "id": "I_WIjYTbRmYX",
        "colab_type": "code",
        "colab": {
          "base_uri": "https://localhost:8080/",
          "height": 34
        },
        "outputId": "6a96ab75-2c43-4eb3-ba9f-1d15612cd9e6"
      },
      "source": [
        "#searching the index of substring\n",
        "MLE = 'Machine Learning Engineer'\n",
        "MLE.index('Eng')"
      ],
      "execution_count": 22,
      "outputs": [
        {
          "output_type": "execute_result",
          "data": {
            "text/plain": [
              "17"
            ]
          },
          "metadata": {
            "tags": []
          },
          "execution_count": 22
        }
      ]
    },
    {
      "cell_type": "code",
      "metadata": {
        "id": "UGeXD1oKSZaP",
        "colab_type": "code",
        "colab": {
          "base_uri": "https://localhost:8080/",
          "height": 34
        },
        "outputId": "19c9feee-6310-4c89-ee88-53035982dc61"
      },
      "source": [
        "MLE.startswith('Ma')"
      ],
      "execution_count": 25,
      "outputs": [
        {
          "output_type": "execute_result",
          "data": {
            "text/plain": [
              "True"
            ]
          },
          "metadata": {
            "tags": []
          },
          "execution_count": 25
        }
      ]
    },
    {
      "cell_type": "code",
      "metadata": {
        "id": "XhpMh80VSkga",
        "colab_type": "code",
        "colab": {
          "base_uri": "https://localhost:8080/",
          "height": 34
        },
        "outputId": "a0784a8f-37ea-412c-9554-d44e83111a52"
      },
      "source": [
        "MLE.endswith('pr')"
      ],
      "execution_count": 26,
      "outputs": [
        {
          "output_type": "execute_result",
          "data": {
            "text/plain": [
              "False"
            ]
          },
          "metadata": {
            "tags": []
          },
          "execution_count": 26
        }
      ]
    },
    {
      "cell_type": "markdown",
      "metadata": {
        "id": "jK0p9IHdS2Q8",
        "colab_type": "text"
      },
      "source": [
        "- **split() and join() method with string**\n",
        "  - split() turns the string into a smaller string breaking on whitespace bydefault. see below code"
      ]
    },
    {
      "cell_type": "code",
      "metadata": {
        "id": "coJp9MkFTJdA",
        "colab_type": "code",
        "colab": {
          "base_uri": "https://localhost:8080/",
          "height": 34
        },
        "outputId": "40c614f2-e88a-4212-8950-5ddd491feb25"
      },
      "source": [
        "learn = 'I am learning the machine learning with python'\n",
        "learn.split()"
      ],
      "execution_count": 28,
      "outputs": [
        {
          "output_type": "execute_result",
          "data": {
            "text/plain": [
              "['I', 'am', 'learning', 'the', 'machine', 'learning', 'with', 'python']"
            ]
          },
          "metadata": {
            "tags": []
          },
          "execution_count": 28
        }
      ]
    }
  ]
}